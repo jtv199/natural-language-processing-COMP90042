{
 "cells": [
  {
   "cell_type": "markdown",
   "metadata": {},
   "source": [
    "# Assignment 2: Language Modelling in Hangman"
   ]
  },
  {
   "cell_type": "markdown",
   "metadata": {
    "collapsed": true,
    "jupyter": {
     "outputs_hidden": true
    }
   },
   "source": [
    "Student Name:\n",
    "\n",
    "Student ID:"
   ]
  },
  {
   "cell_type": "markdown",
   "metadata": {},
   "source": [
    "## General info"
   ]
  },
  {
   "cell_type": "markdown",
   "metadata": {},
   "source": [
    "<b>Due date</b>: Wednesday, 9 April 2025 1pm\n",
    "\n",
    "<b>Submission method</b>: Canvas submission\n",
    "\n",
    "<b>Submission materials</b>: completed copy of this iPython notebook\n",
    "\n",
    "<b>Late submissions</b>: -20% per day (both week and weekend days counted)\n",
    "\n",
    "<b>Marks</b>: 8% of mark for class (with 7% on correctness + 1% on quality and efficiency of your code)\n",
    "\n",
    "<b>Materials</b>: See \"Using Jupyter Notebook and Python on Google Colab\" page on Canvas (under Modules>Resources) for information on how to use Google Colab to use Jupyter Notebook. We recommend installing all the data for NLTK, since you will need various parts of it to complete this assignment. You can also use any Python built-in packages, but do not use any other 3rd party packages, <b> except </b> Numpy, Scipy, Matplotlib, Scikit-Learn, Gensim, Keras and Pytorch. You must export your Colab notebook and submit it to the LMS. If your notebook doesn't run, you will lose marks. <b> You should use the Python version that's on Google Colab (3.11)</b>.  \n",
    "\n",
    "To familiarize yourself with NLTK, here is a free online book:  Steven Bird, Ewan Klein, and Edward Loper (2009). <a href=https://www.nltk.org/book/>Natural Language Processing with Python</a>. O'Reilly Media Inc. You may also consult the <a href=https://www.nltk.org/api/nltk.html>NLTK API</a>.\n",
    "\n",
    "<b>Evaluation</b>: Your iPython notebook should run end-to-end without any errors in a reasonable amount of time, and you must follow all instructions provided below, including specific implementation requirements and instructions for what needs to be printed (please avoid printing output we don't ask for). You should edit the sections below where requested, but leave the rest of the code as is. You should leave the output from running your code in the iPython notebook you submit, to assist with marking. The amount each question is worth is explicitly given. \n",
    "\n",
    "You will be marked not only on the correctness of your methods, but also the quality and efficency of your code: in particular, you should be careful to use Python built-in functions and operators when appropriate and pick descriptive variable names that adhere to <a href=\"https://www.python.org/dev/peps/pep-0008/\">Python style requirements</a>. If you think it might be unclear what you are doing, you should comment your code to help the marker make sense of it.\n",
    "\n",
    "<b>Updates</b>: Any major changes to the assignment will be announced via Canvas. Minor changes and clarifications will be announced on the discussion board; we recommend you check it regularly.\n",
    "\n",
    "<b>Academic misconduct</b>: For most people, collaboration will form a natural part of the undertaking of this homework, and we encourge you to discuss it in general terms with other students. However, this ultimately is still an individual task, and so reuse of code or other instances of clear influence will be considered cheating. We will be checking submissions for originality and will invoke the University’s <a href=\"http://academichonesty.unimelb.edu.au/policy.html\">Academic Misconduct policy</a> where inappropriate levels of collusion or plagiarism are deemed to have taken place. You <b> must not </b> use artifial intelligence tools for doing the assignment, as all work submitted by a student should be their own, as clarified <a href=\"https://academicintegrity.unimelb.edu.au/plagiarism-and-collusion/artificial-intelligence-tools-and-technologies\">here</a>."
   ]
  },
  {
   "cell_type": "markdown",
   "metadata": {},
   "source": [
    "# Overview\n",
    "\n",
    "In this homework, you'll be creating an 'artificial intelligence' player for the classic Hangman word guessing game. You will need to implement several different automatic strategies based on character-level n-gram language models. Your objective is to create an automatic player which makes the fewest mistakes."
   ]
  },
  {
   "cell_type": "markdown",
   "metadata": {},
   "source": [
    "# The Hangman Game (7 marks)"
   ]
  },
  {
   "cell_type": "markdown",
   "metadata": {},
   "source": [
    "**Instructions**: The <a href=\"https://en.wikipedia.org/wiki/Hangman_(game)\">Hangman game</a> is a simple game whereby one person thinks of a word, which they keep secret from their opponent, who tries to guess the word one character at a time. The game ends when the opponent makes more than a fixed number of incorrect guesses, or they figure out the secret word before then (in which case they *win*). \n",
    "\n",
    "Here's a simple version of the game. **No implementation is needed.**"
   ]
  },
  {
   "cell_type": "code",
   "execution_count": 24,
   "metadata": {},
   "outputs": [],
   "source": [
    "from typing import Callable"
   ]
  },
  {
   "cell_type": "code",
   "execution_count": 9,
   "metadata": {},
   "outputs": [],
   "source": [
    "def hangman(secret_word, guesser, max_mistakes=8, verbose=True, **guesser_args):\n",
    "    \"\"\"\n",
    "        This function plays the hangman game with the provided guesser and returns the number of incorrect guesses. \n",
    "        \n",
    "        secret_word: a string of lower-case alphabetic characters, i.e., the answer to the game\n",
    "        guesser: a function which guesses the next character at each stage in the game\n",
    "            The function takes a:\n",
    "                mask: what is known of the word, as a string with _ denoting an unknown character\n",
    "                guessed: the set of characters which already been guessed in the game\n",
    "                guesser_args: additional (optional) keyword arguments, i.e., name=value\n",
    "        max_mistakes: limit on length of game, in terms of number of allowed mistakes\n",
    "        verbose: silent or verbose diagnostic prints\n",
    "        guesser_args: keyword arguments to pass directly to the guesser function\n",
    "    \"\"\"\n",
    "    secret_word = secret_word.lower()\n",
    "    mask = ['_'] * len(secret_word)\n",
    "    guessed = set()\n",
    "    if verbose:\n",
    "        print(\"Starting hangman game. Target is\", ' '.join(mask), 'length', len(secret_word))\n",
    "    \n",
    "    mistakes = 0\n",
    "    while mistakes < max_mistakes:\n",
    "        if verbose:\n",
    "            print(\"You have\", (max_mistakes-mistakes), \"attempts remaining.\")\n",
    "        guess = guesser(mask, guessed, **guesser_args)\n",
    "\n",
    "        if verbose:\n",
    "            print('Guess is', guess)\n",
    "        if guess in guessed:\n",
    "            if verbose:\n",
    "                print('Already guessed this before.')\n",
    "            mistakes += 1\n",
    "        else:\n",
    "            guessed.add(guess)\n",
    "            if guess in secret_word and len(guess) == 1:\n",
    "                for i, c in enumerate(secret_word):\n",
    "                    if c == guess:\n",
    "                        mask[i] = c\n",
    "                if verbose:\n",
    "                    print('Good guess:', ' '.join(mask))\n",
    "            else:\n",
    "                if len(guess) != 1:\n",
    "                    print('Please guess with only 1 character.')\n",
    "                if verbose:\n",
    "                    print('Sorry, try again.')\n",
    "                mistakes += 1\n",
    "                \n",
    "        if '_' not in mask:\n",
    "            if verbose:\n",
    "                print('Congratulations, you won.')\n",
    "            return mistakes\n",
    "        \n",
    "    if verbose:\n",
    "        print('Out of guesses. The word was', secret_word)    \n",
    "    return mistakes"
   ]
  },
  {
   "cell_type": "markdown",
   "metadata": {},
   "source": [
    "Here is a human guesser allowing interactive play."
   ]
  },
  {
   "cell_type": "code",
   "execution_count": 10,
   "metadata": {},
   "outputs": [],
   "source": [
    "def human(mask, guessed, **kwargs):\n",
    "    \"\"\"\n",
    "    This is a simple function for manual play.\n",
    "    \"\"\"\n",
    "    print('\\nEnter your guess:')\n",
    "    return input().lower().strip()"
   ]
  },
  {
   "cell_type": "markdown",
   "metadata": {},
   "source": [
    "If you want to play hangman interactively, please set `interactive` to `True`. When submitting your solution, set to `False` so we can automatically run the whole notebook using `Run All`."
   ]
  },
  {
   "cell_type": "code",
   "execution_count": 21,
   "metadata": {},
   "outputs": [],
   "source": [
    "interactive = True #todo change this to false"
   ]
  },
  {
   "cell_type": "markdown",
   "metadata": {},
   "source": [
    "<b>For your testing:</b>\n",
    "\n",
    "You can play the game interactively using the following command:"
   ]
  },
  {
   "cell_type": "code",
   "execution_count": 12,
   "metadata": {},
   "outputs": [],
   "source": [
    "if interactive:\n",
    "    hangman('whatever', human, 8, True)"
   ]
  },
  {
   "cell_type": "markdown",
   "metadata": {
    "collapsed": true,
    "jupyter": {
     "outputs_hidden": true
    }
   },
   "source": [
    "### Question 1 (1.0 mark)\n",
    "\n",
    "**Instructions**: We will use the words in NLTK's Brown corpus for training an artificial intelligence guessing algorithm, and for evaluating the quality of the algorithm.\n",
    "\n",
    "Your first task is to compute the number of **unique word types** occurring in the Brown corpus, using `nltk.corpus.brown` and the `words` method, and select only words that are **entirely comprised of alphabetic characters**. You should also **lowercase the words**. Finally, randomly shuffle (`numpy.random.shuffle`) this collection of word types, and split them into disjoint training and testing sets. The test set should contain 1000 word types, and the rest should be in the  training set. Note that we are intentionally making the hangman game hard, as the AI will need to cope with test words that it has not seen before, hence it will need to learn generalisable patterns of characters to make reasonable predictions.\n",
    "\n",
    "**Task**: Collect all unique word types from the Brown corpus, and produce `training_set` and `test_set`, 2 lists that contain 2 disjointed sets of words. Both `training_set` and `test_set` should be a python `list` (as initialised in the code). `test_set` must contain exactly 1000 word types.\n",
    "\n",
    "**Check**: Use the assertion statements in <b>\"For your testing\"</b> below for the expected output."
   ]
  },
  {
   "cell_type": "code",
   "execution_count": 13,
   "metadata": {},
   "outputs": [
    {
     "name": "stderr",
     "output_type": "stream",
     "text": [
      "[nltk_data] Downloading package brown to\n",
      "[nltk_data]     /home/higherorder2/nltk_data...\n",
      "[nltk_data]   Package brown is already up-to-date!\n"
     ]
    }
   ],
   "source": [
    "import nltk\n",
    "from nltk.corpus import brown\n",
    "import numpy as np\n",
    "\n",
    "nltk.download('brown')\n",
    "np.random.seed(1)"
   ]
  },
  {
   "cell_type": "code",
   "execution_count": 14,
   "metadata": {},
   "outputs": [
    {
     "name": "stdout",
     "output_type": "stream",
     "text": [
      "Number of word types in test = 1000\n",
      "Number of word types in train = 39234\n"
     ]
    }
   ],
   "source": [
    "\n",
    "# training_set stores the rest word types for training\n",
    "training_set = []\n",
    "# test_set stores 1000 word types for testing\n",
    "test_set = []\n",
    "\n",
    "\n",
    "###\n",
    "# Your answer BEGINS HERE\n",
    "###\n",
    "# Get all words from brown corpus and filter them\n",
    "words = brown.words()\n",
    "filtered_words = [word.lower() for word in words if word.isalpha()]\n",
    "unique_words = list(set(filtered_words))\n",
    "\n",
    "# Shuffle the words randomly\n",
    "np.random.shuffle(unique_words)\n",
    "\n",
    "# Split into test and training sets\n",
    "test_set = unique_words[:1000]\n",
    "training_set = unique_words[1000:]\n",
    "###\n",
    "# Your answer ENDS HERE\n",
    "###\n",
    "\n",
    "print(\"Number of word types in test =\", len(test_set))\n",
    "print(\"Number of word types in train =\", len(training_set))"
   ]
  },
  {
   "cell_type": "markdown",
   "metadata": {},
   "source": [
    "<b>For your testing:</b>"
   ]
  },
  {
   "cell_type": "code",
   "execution_count": 15,
   "metadata": {},
   "outputs": [],
   "source": [
    "assert(len(training_set) > 35000 and len(training_set) < 45000)\n",
    "assert(len(training_set) == 39234) # added test\n",
    "assert(len(test_set) == 1000)"
   ]
  },
  {
   "cell_type": "markdown",
   "metadata": {},
   "source": [
    "**Play the game**:\n",
    "\n",
    "Let's see how good you are at this game! Try to guess a random word from the test set. It is surprisingly difficult (and addictive)! Don't forget to set `interactive = True`."
   ]
  },
  {
   "cell_type": "code",
   "execution_count": 22,
   "metadata": {},
   "outputs": [
    {
     "name": "stdout",
     "output_type": "stream",
     "text": [
      "Starting hangman game. Target is _ _ _ _ _ length 5\n",
      "You have 8 attempts remaining.\n",
      "\n",
      "Enter your guess:\n",
      "Guess is a\n",
      "Sorry, try again.\n",
      "You have 7 attempts remaining.\n",
      "\n",
      "Enter your guess:\n",
      "Guess is e\n",
      "Sorry, try again.\n",
      "You have 6 attempts remaining.\n",
      "\n",
      "Enter your guess:\n",
      "Guess is e\n",
      "Already guessed this before.\n",
      "You have 5 attempts remaining.\n",
      "\n",
      "Enter your guess:\n",
      "Guess is i\n",
      "Good guess: _ i _ _ _\n",
      "You have 5 attempts remaining.\n",
      "\n",
      "Enter your guess:\n",
      "Guess is t\n",
      "Good guess: _ i _ t _\n",
      "You have 5 attempts remaining.\n",
      "\n",
      "Enter your guess:\n",
      "Guess is c\n",
      "Sorry, try again.\n",
      "You have 4 attempts remaining.\n",
      "\n",
      "Enter your guess:\n",
      "Guess is f\n",
      "Sorry, try again.\n",
      "You have 3 attempts remaining.\n",
      "\n",
      "Enter your guess:\n",
      "Guess is l\n",
      "Good guess: l i _ t _\n",
      "You have 3 attempts remaining.\n",
      "\n",
      "Enter your guess:\n",
      "Guess is s\n",
      "Good guess: l i s t s\n",
      "Congratulations, you won.\n"
     ]
    }
   ],
   "source": [
    "#play hangman using random words from test set\n",
    "if interactive:\n",
    "    hangman(np.random.choice(test_set), human, 8, True)"
   ]
  },
  {
   "cell_type": "markdown",
   "metadata": {},
   "source": [
    "### Question 2 (0.5 mark)\n",
    "\n",
    "**Instructions**: To set a baseline, your first AI attempt will be a trivial **random method**. For this you should implement a guessing method, similar to the `human` method above, i.e., using the same input arguments and returning a character. Your method should randomly choose a character from the range `a ... z` after excluding the characters that have already been guessed in the current game (all subsequent AI approaches should also exclude previous guesses).\n",
    "\n",
    "To help you measure the performance of this (and later) guesser, a `test_guesser` method that takes a guesser and measures the average number of incorrect guesses made over all the words in the `test` is provided to you. \n",
    "\n",
    "**Task**: Complete the `random_guesser` method. It should return a random character from the English alphabets.\n",
    "\n",
    "**Check**: Use the assertion statements in <b>\"For your testing\"</b> below for the expected output."
   ]
  },
  {
   "cell_type": "code",
   "execution_count": null,
   "metadata": {},
   "outputs": [],
   "source": [
    "def test_guesser(guesser: Callable, test: list[str]) -> float:\n",
    "    \"\"\"\n",
    "        This function takes a guesser and measures the average number of incorrect guesses made over all the words in the test_set. \n",
    "        \n",
    "        Args:\n",
    "            guesser (Callable): A function that takes a mask string, set of guessed chars and returns a char guess\n",
    "            test (list[str]): List of words to test the guesser on\n",
    "            \n",
    "        Returns:\n",
    "            float: Average number of incorrect guesses across all test words\n",
    "            \n",
    "        Example:\n",
    "            >>> def simple_guesser(mask: str, guessed: set[str], **kwargs) -> str:\n",
    "            ...     return 'e'  # Always guess 'e'\n",
    "            >>> test_words = ['hello', 'world']\n",
    "            >>> test_guesser(simple_guesser, test_words)\n",
    "            2.5  # Average number of wrong guesses\n",
    "    \"\"\"\n",
    "    total = 0\n",
    "    for word in test:\n",
    "        total += hangman(word, guesser, 26, False)\n",
    "    return total / float(len(test))"
   ]
  },
  {
   "cell_type": "code",
   "execution_count": 29,
   "metadata": {},
   "outputs": [
    {
     "name": "stdout",
     "output_type": "stream",
     "text": [
      "Guessing word = expire\n",
      "Number of mistakes made by the random guesser = 18\n",
      "\n",
      "Testing the random guesser using every word in test set\n",
      "Average number of incorrect guesses:  16.771\n"
     ]
    }
   ],
   "source": [
    "def random_guesser(mask: str, guessed: set[str], **kwargs) -> str:\n",
    "    \"\"\"\n",
    "    Just return a random character from the English alphabet\n",
    "    \n",
    "    Args:\n",
    "        mask (str): The current state of the word with unguessed letters as '_'\n",
    "        guessed (set[str]): Set of characters that have already been guessed\n",
    "        **kwargs: Additional keyword arguments (not used)\n",
    "        \n",
    "    Returns:\n",
    "        str: A random unguessed character from a-z\n",
    "        \n",
    "    Example:\n",
    "        >>> mask = \"h_ll_\"\n",
    "        >>> guessed = {'h', 'l'} \n",
    "        >>> random_guesser(mask, guessed)\n",
    "        'e'  # Returns random letter that isn't 'h' or 'l'\n",
    "    \"\"\"\n",
    "    \n",
    "    ###\n",
    "    # Your answer BEGINS HERE\n",
    "    ###\n",
    "    # Get all letters from a-z\n",
    "    alphabet = set('abcdefghijklmnopqrstuvwxyz')\n",
    "    \n",
    "    # need to remove already guessed letters\n",
    "    available = alphabet - guessed\n",
    "    \n",
    "    # Return random letter from remaining available letters\n",
    "    return np.random.choice(list(available))\n",
    "    ###\n",
    "    # Your answer ENDS HERE\n",
    "    ###\n",
    "\n",
    "random_word = np.random.choice(test_set)\n",
    "print(\"Guessing word =\", random_word)\n",
    "print(\"Number of mistakes made by the random guesser =\", hangman(random_word, random_guesser, 26, False))\n",
    "\n",
    "result = test_guesser(random_guesser, test_set)\n",
    "print(\"\\nTesting the random guesser using every word in test set\")\n",
    "print(\"Average number of incorrect guesses: \", result)"
   ]
  },
  {
   "cell_type": "markdown",
   "metadata": {},
   "source": [
    "<b>For your testing:</b>"
   ]
  },
  {
   "cell_type": "code",
   "execution_count": 30,
   "metadata": {},
   "outputs": [],
   "source": [
    "assert(result > 10 and result < 20)"
   ]
  },
  {
   "cell_type": "markdown",
   "metadata": {},
   "source": [
    "### Question 3 (1.0 mark)\n",
    "\n",
    "**Instructions:** As your first real AI, you should train a **unigram language model** over the training set. This requires you to find the frequencies of characters over all training words. Using this model, you should write a guesser that returns the character with the highest probability. Remember to exclude already guessed characters. \n",
    "\n",
    "**Task**: Collect the frequencies of characters and store them in `unigram_counts` (use the first answer space). Complete the `unigram_guesser` method (use the second answer space). Note that it takes `unigram_counts` as an additional argument.\n",
    "\n",
    "**Check**: Use the assertion statements in <b>\"For your testing\"</b> below for the expected output."
   ]
  },
  {
   "cell_type": "code",
   "execution_count": null,
   "metadata": {},
   "outputs": [
    {
     "name": "stdout",
     "output_type": "stream",
     "text": [
      "Testing the unigram guesser using every word in test set\n",
      "Average number of incorrect guesses:  10.32\n"
     ]
    },
    {
     "data": {
      "text/plain": [
       "10.32"
      ]
     },
     "execution_count": 33,
     "metadata": {},
     "output_type": "execute_result"
    }
   ],
   "source": [
    "unigram_counts = None\n",
    "\n",
    "###\n",
    "# Your answer BEGINS HERE\n",
    "\n",
    "###\n",
    "# Initialize empty dictionary for character counts\n",
    "unigram_counts = {}\n",
    "\n",
    "# Loop through each word in training set\n",
    "for word in training_set:\n",
    "    # Loop through each character in word\n",
    "    for char in word:\n",
    "        # Increment count for this character\n",
    "        if char in unigram_counts:\n",
    "            unigram_counts[char] += 1\n",
    "        else:\n",
    "            unigram_counts[char] = 1\n",
    "\n",
    "\n",
    "###\n",
    "# Your answer ENDS HERE\n",
    "###\n",
    "\n",
    "def unigram_guesser(mask: str, guessed: set, unigram_counts=unigram_counts) -> str:\n",
    "    \"\"\"Guess next letter based on unigram probabilities.\n",
    "    \n",
    "    Uses unigram language model to select the most probable character that hasn't been guessed yet.\n",
    "    \n",
    "    P(c) = count(c) / N, where N is total character count\n",
    "    \n",
    "    Args:\n",
    "        mask: Current game state showing revealed letters and underscores for hidden letters\n",
    "        guessed: Set of letters that have already been guessed\n",
    "        unigram_counts: Dictionary mapping characters to their counts in training data\n",
    "    \n",
    "    Returns:\n",
    "        str: Most probable unguessed character\n",
    "        \n",
    "    Example:\n",
    "        >>> mask = \"h_ll_\"\n",
    "        >>> guessed = {'h','l'} \n",
    "        >>> unigram_counts = {'e':10, 'o':8, 'a':5}\n",
    "        >>> unigram_guesser(mask, guessed, unigram_counts)\n",
    "        'e'\n",
    "    \"\"\"\n",
    "    ###\n",
    "    # Your answer BEGINS HERE\n",
    "    ###\n",
    "    \n",
    "    # Find character with highest count that hasn't been guessed yet\n",
    "    max_count = 0\n",
    "    best_char = None\n",
    "    \n",
    "    for char, count in unigram_counts.items():\n",
    "        # Skip if already guessed\n",
    "        if char in guessed:\n",
    "            continue\n",
    "            \n",
    "        if count > max_count:\n",
    "            max_count = count\n",
    "            best_char = char\n",
    "            \n",
    "    return best_char\n",
    "\n",
    "    ###\n",
    "    # Your answer ENDS HERE\n",
    "    ###\n",
    "\n",
    "result = test_guesser(unigram_guesser, test_set)\n",
    "print(\"Testing the unigram guesser using every word in test set\")\n",
    "print(\"Average number of incorrect guesses: \", result)\n"
   ]
  },
  {
   "cell_type": "markdown",
   "metadata": {},
   "source": [
    "<b>For your testing:</b>"
   ]
  },
  {
   "cell_type": "code",
   "execution_count": 34,
   "metadata": {},
   "outputs": [],
   "source": [
    "#h Assert result is 10.32\n",
    "assert(result == 10.32)"
   ]
  },
  {
   "cell_type": "markdown",
   "metadata": {},
   "source": [
    "### Question 4 (1.0 mark)\n",
    "\n",
    "**Instructions:** The length of the secret word is an important clue that we might exploit. Different lengths tend to have different distributions over characters, e.g., short words are less likely to have suffixes or prefixes. You should incorporate this idea by conditioning the unigram model on the length of the secret word, i.e.,  having a **different unigram model for each length**. You will need to be a little careful at test time, to be robust to the situation that you encounter a word length that you didn't see in training. In such a case, your method should behave like the previous `unigram_guesser` in Question 3 (i.e., it guesses characters based on unigram frequencies, unconditioned by the word length).\n",
    "\n",
    "**Task**: Collect the frequencies of characters conditioned on the word length and store them in `unigram_counts_by_length` (use the first answer space). Complete the `unigram_length_guesser` method (use the second answer space).\n",
    "\n",
    "**Check**: Use the assertion statements in <b>\"For your testing\"</b> below for the expected output."
   ]
  },
  {
   "cell_type": "code",
   "execution_count": 35,
   "metadata": {},
   "outputs": [
    {
     "name": "stdout",
     "output_type": "stream",
     "text": [
      "Testing the length-conditioned unigram guesser using every word in test set\n",
      "Average number of incorrect guesses:  10.256\n"
     ]
    }
   ],
   "source": [
    "unigram_counts_by_length = None\n",
    "\n",
    "###\n",
    "# Your answer BEGINS HERE\n",
    "###\n",
    "\n",
    "unigram_counts_by_length = {}\n",
    "\n",
    "for word in training_set:\n",
    "    length = len(word)\n",
    "    \n",
    "    # Initialize dictionary for this length if it doesn't exist\n",
    "    if length not in unigram_counts_by_length:\n",
    "        unigram_counts_by_length[length] = {}\n",
    "    \n",
    "    # Count each character in the word\n",
    "    for char in word:\n",
    "        if char in unigram_counts_by_length[length]:\n",
    "            unigram_counts_by_length[length][char] += 1\n",
    "        else:\n",
    "            unigram_counts_by_length[length][char] = 1\n",
    "\n",
    "###\n",
    "# Your answer ENDS HERE\n",
    "###\n",
    "\n",
    "def unigram_length_guesser(mask: str, guessed: set[str], unigram_counts_by_length: dict[int, dict[str, int]]=unigram_counts_by_length, unigram_counts: dict[str, int]=unigram_counts) -> str:\n",
    "    \"\"\"\n",
    "    Makes a guess for the next character based on unigram frequencies conditioned on word length.\n",
    "    Falls back to unconditioned unigram frequencies for unseen word lengths.\n",
    "\n",
    "    Example:\n",
    "        >>> mask = \"h_ll_\"  # 5 letter word\n",
    "        >>> guessed = {\"h\", \"l\"}\n",
    "        >>> unigram_length_guesser(mask, guessed)  # Returns most likely unguessed char for 5-letter words\n",
    "        'e'\n",
    "\n",
    "    Args:\n",
    "        mask: The current state of the word with _ for unknown letters\n",
    "        guessed: Set of letters that have already been guessed\n",
    "        unigram_counts_by_length: Dict mapping word lengths to character frequency dicts\n",
    "        unigram_counts: Dict mapping characters to their frequencies (fallback)\n",
    "\n",
    "    Returns:\n",
    "        The most likely unguessed character\n",
    "    \"\"\"\n",
    "    ###\n",
    "    # Your answer BEGINS HERE\n",
    "    ###\n",
    "    \n",
    "    length = len(mask)\n",
    "    \n",
    "    # If we haven't seen this word length before, fall back to regular unigram counts\n",
    "    if length not in unigram_counts_by_length:\n",
    "        max_count = 0\n",
    "        best_char = None\n",
    "        \n",
    "        for char, count in unigram_counts.items():\n",
    "            if char not in guessed and count > max_count:\n",
    "                max_count = count\n",
    "                best_char = char\n",
    "                \n",
    "        return best_char\n",
    "    \n",
    "    # Use length-specific unigram counts\n",
    "    max_count = 0\n",
    "    best_char = None\n",
    "    \n",
    "    for char, count in unigram_counts_by_length[length].items():\n",
    "        if char not in guessed and count > max_count:\n",
    "            max_count = count\n",
    "            best_char = char\n",
    "            \n",
    "    return best_char\n",
    "\n",
    "    ###\n",
    "    # Your answer ENDS HERE\n",
    "    ###\n",
    "\n",
    "result = test_guesser(unigram_length_guesser, test_set)\n",
    "print(\"Testing the length-conditioned unigram guesser using every word in test set\")\n",
    "print(\"Average number of incorrect guesses: \", result)"
   ]
  },
  {
   "cell_type": "markdown",
   "metadata": {},
   "source": [
    "<b>For your testing:</b>"
   ]
  },
  {
   "cell_type": "code",
   "execution_count": 37,
   "metadata": {},
   "outputs": [],
   "source": [
    "assert(result > 5 and result < 15)\n",
    "assert(result == 10.256) #h added test"
   ]
  },
  {
   "cell_type": "markdown",
   "metadata": {},
   "source": [
    "### Question 5 (1.0 mark)\n",
    "\n",
    "**Instructions:** Now for the next challenge, you'll build a **bigram language model** over characters. The order of characters is obviously important, yet this wasn't incorporated in any of the above models. Knowing that the word has the sequence `n _ s s` is a pretty strong clue that the missing character might be `e`. Similarly the distribution over characters that start or end a word are highly biased (e.g., toward common prefixes and suffixes, like *un-*, *-ed* and *-ly*).\n",
    "\n",
    "The task here is to develop a bigram language model over characters, and train it over the training words. Remember to be careful when handling the start of each word properly, e.g., by padding with a special starting symbol such as `$`. Do we also need a special ending symbol? That's for you to decide.\n",
    "\n",
    "Your bigram guesser should apply your language model to each blank position in the secret word by using its left context character. For example, in the partial word `e _ c _ b _ _` we know the left context for the first three blanks, but have no known left context for the last blank. In the case for the last blank, you should revert to using a unigram language model (since there's no context for us to use the bigram model). You should sum up the probability distribution (over all alphabets from <i>a</i> to <i>z</i>) for the 4 blanks, and select the alphabet with the highest probability that hasn't been guessed.\n",
    "\n",
    "**Note**:\n",
    "- When backing-off to the unigram language model, you **must use the vanilla unigram language model that you have built in Q3**. Do not use the length-based unigram language model, or any fancy variant, or you will lose marks.\n",
    "- You should build a **standard bigram language model**; i.e. do not do anything complicated like a bidirectional bigram language model.\n",
    "\n",
    "**Task**: Collect frequency counts that are necessary for building a bigram language model and store them in bigram_counts; feel free to add new objects if needed (use the first answer space). Complete the `bigram_guesser` method (use the second answer space). Note that the method currently only has one additional argument (`bigram_counts`), but you are free to add additional arguments."
   ]
  },
  {
   "cell_type": "code",
   "execution_count": 68,
   "metadata": {},
   "outputs": [],
   "source": [
    "def bigram_sum(prev):\n",
    "      values = [val for key, val in forward_bigram_dict[prev].items()]\n",
    "      total = sum(values)\n",
    "      return total\n",
    "\n",
    "assert bigram_sum('$') == len(training_set)"
   ]
  },
  {
   "cell_type": "code",
   "execution_count": 93,
   "metadata": {},
   "outputs": [
    {
     "name": "stdout",
     "output_type": "stream",
     "text": [
      "Testing the bigram guesser using every word in test set\n",
      "Average number of incorrect guesses:  8.679\n"
     ]
    }
   ],
   "source": [
    "bigram_counts = None\n",
    "\n",
    "###\n",
    "# Your answer BEGINS HERE\n",
    "###\n",
    "\"\"\"#h\n",
    "first go through each word in the corpus\n",
    "    for each word, for the charactor before it, code the frequency of the charactor after it, \n",
    "    unless start, which goes to a sperate thing\n",
    "\n",
    "example\n",
    "    leet, chad\n",
    "      ^\n",
    "    forward_bigram_dict {\n",
    "    '$': {l:1},\n",
    "    'l': {e:1},\n",
    "    'e' :{e:1,t:1},\n",
    "      }\n",
    "\n",
    "questions\n",
    "  do we need a special end symbol?\n",
    "training_set\n",
    "\n",
    "\"\"\"\n",
    "from collections import defaultdict\n",
    "forward_bigram_dict = defaultdict(lambda: defaultdict(int))\n",
    "\n",
    "for word in training_set:\n",
    "    for i in range(0,len(word)):\n",
    "        c = word[i]\n",
    "        if i ==0:\n",
    "            forward_bigram_dict['$'][c] +=1\n",
    "        else:\n",
    "            prev_c = word[i-1]\n",
    "            assert i - 1 >-1\n",
    "            forward_bigram_dict[prev_c][c] +=1\n",
    "\n",
    "\n",
    "###\n",
    "# Your answer ENDS HERE\n",
    "###\n",
    "    \n",
    "\n",
    "def bigram_guesser(mask: str, guessed: set[str], bigram_counts=bigram_counts) -> str:\n",
    "    \"\"\"Guess the next letter using a bigram language model.\n",
    "    \n",
    "    The probability of a character c following character p is:\n",
    "    P(c|p) = count(p,c) / count(prev) # should be summed prev from the bigram dictionary\n",
    "    \n",
    "    hell_\n",
    "\n",
    "    \n",
    "    Where:\n",
    "    - count(p,c) is the number of times character c follows p in training data\n",
    "    - count(p) is total number of characters that follow p\n",
    "    \n",
    "    Examples:\n",
    "        >>> mask = \"h_ll_\"\n",
    "        >>> guessed = {'h', 'l'} \n",
    "        >>> bigram_guesser(mask, guessed)\n",
    "        'e'  # High probability of 'e' following 'h' in \"hello\"\n",
    "        \n",
    "        >>> mask = \"_at\" \n",
    "        >>> guessed = {'t', 'a'}\n",
    "        >>> bigram_guesser(mask, guessed)\n",
    "        'c'  # 'c' likely to start \"cat\" based on training data\n",
    "\n",
    "        C_t_\n",
    "        cat\n",
    "\n",
    "        hello\n",
    "        h_ll_\n",
    "        he\n",
    "        le\n",
    "\n",
    "\n",
    "    \"\"\"\n",
    "    ###\n",
    "    # Your answer BEGINS HERE\n",
    "    ###\n",
    "    \"\"\"\n",
    "    #h probably could optimise but hey\n",
    "    process\n",
    "    \n",
    "        \n",
    "\n",
    "    example:\n",
    "    $h_ll_\n",
    "      ^\n",
    "\n",
    "    have to divide by total \n",
    "\n",
    "    \"\"\"\n",
    "    def bigram_sum(prev):\n",
    "      values = [val for key, val in forward_bigram_dict[prev].items()]\n",
    "      total = sum(values)\n",
    "      return total\n",
    "    \n",
    "    unigram_total = sum([val for key, val in unigram_counts.items()])\n",
    "\n",
    "    alphabet = 'abcdefghijklmnopqrstuvwxyz'\n",
    "\n",
    "    char_prob_dict = defaultdict(int)\n",
    "    # print(mask)\n",
    "    mask = ['$']+ mask\n",
    "    for i in range(1,len(mask)):\n",
    "      c = mask[i]\n",
    "      #technically its count\n",
    "      if c == '_':\n",
    "        \"\"\"\n",
    "        example:\n",
    "        $h_ll_\n",
    "         ^\n",
    "        \"\"\"\n",
    "        for guess in alphabet:\n",
    "          if guess in guessed:\n",
    "            continue\n",
    "          prev = mask[i-1]\n",
    "          if prev == '_':\n",
    "            probability = unigram_counts[guess] / unigram_total\n",
    "            assert 0<probability<1\n",
    "          else:\n",
    "            p_prev = bigram_sum(prev)\n",
    "            p_c = forward_bigram_dict[prev][guess]\n",
    "            # if p_c == 0:\n",
    "            #    print('true')\n",
    "            #smoothing?\n",
    "            probability = 0\n",
    "            if not p_c == 0:\n",
    "              probability =  p_c /p_prev\n",
    "\n",
    "          char_prob_dict[guess] += probability\n",
    "        \n",
    "\n",
    "    largest_prob = 0\n",
    "    largest_guess = None\n",
    "    for guess, prob in char_prob_dict.items():\n",
    "      if prob > largest_prob and guess not in guessed:\n",
    "        largest_prob = prob\n",
    "        largest_guess = guess\n",
    "    return largest_guess\n",
    "    \n",
    "    ###\n",
    "    # Your answer ENDS HERE\n",
    "    ###\n",
    "\n",
    "\n",
    "\n",
    "result = test_guesser(bigram_guesser, test_set)\n",
    "print(\"Testing the bigram guesser using every word in test set\")\n",
    "print(\"Average number of incorrect guesses: \", result)"
   ]
  },
  {
   "cell_type": "markdown",
   "metadata": {},
   "source": [
    "### Question 6 (2.0 mark)\n",
    "\n",
    "**Instructions:** You should try to develop a more effective AI for hangman. Feel free to engage your creativity here! Possibilities include better conditioning on the length of the word, fancier smoothing methods, ngram models and bidirectional models (lecture 8). Have fun!\n",
    "\n",
    "You will be marked based on the performance of your AI model, using a pre-made training and test set (created using a secret seed). Let x be the average number of mistakes in the test set, you will score:\n",
    "* 2.0 mark if x < 6.0\n",
    "* 1.5 mark if 6.0 <= x < 6.5\n",
    "* 1.0 mark if 6.5 <= x < 7.0\n",
    "* 0.5 mark if 7.0 <= x < 8.0\n",
    "* 0.0 mark if x >= 8.0\n",
    "\n",
    "Note:\n",
    "* When testing your AI model's performance, you may want to consider trying different training/test splits (using different seeds) to have a better understanding of its _average_ performance, as there will be some variance to its performance depending on the training/test split.\n",
    "* Your code must run under 2 minutes on Colab (free account) with GPU; program that runs longer than that will be terminated and you will score 0.\n",
    "\n",
    "**Task** Complete the `my_amazing_ai_guesser` method, which implements a better language model for hangman."
   ]
  },
  {
   "cell_type": "code",
   "execution_count": null,
   "metadata": {},
   "outputs": [],
   "source": [
    "###\n",
    "# Your answer BEGINS HERE\n",
    "###\n",
    "\n",
    "def my_amazing_ai_guesser(mask, guessed):\n",
    "     return random_guesser(mask, guessed)\n",
    "\n",
    "###\n",
    "# Your answer ENDS HERE\n",
    "###\n",
    "\n",
    "result = test_guesser(my_amazing_ai_guesser, test_set)\n",
    "print(\"Testing my amazing AI guesser using every word in test set\")\n",
    "print(\"Average number of incorrect guesses: \", result)"
   ]
  },
  {
   "cell_type": "markdown",
   "metadata": {},
   "source": [
    "### Question 7 (0.5 mark)\n",
    "\n",
    "**Instructions:** Explain your approach and discuss your result below. Please keep your explanation to a short paragraph."
   ]
  },
  {
   "cell_type": "markdown",
   "metadata": {},
   "source": [
    "##### Your answer BEGINS HERE\n",
    "\n",
    "\n",
    "\n",
    "##### Your answer ENDS HERE"
   ]
  },
  {
   "cell_type": "code",
   "execution_count": null,
   "metadata": {},
   "outputs": [],
   "source": []
  }
 ],
 "metadata": {
  "anaconda-cloud": {},
  "kernelspec": {
   "display_name": "Python 3 (ipykernel)",
   "language": "python",
   "name": "python3"
  },
  "language_info": {
   "codemirror_mode": {
    "name": "ipython",
    "version": 3
   },
   "file_extension": ".py",
   "mimetype": "text/x-python",
   "name": "python",
   "nbconvert_exporter": "python",
   "pygments_lexer": "ipython3",
   "version": "3.11.11"
  }
 },
 "nbformat": 4,
 "nbformat_minor": 4
}
